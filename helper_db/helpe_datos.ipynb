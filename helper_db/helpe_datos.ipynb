{
 "cells": [
  {
   "cell_type": "markdown",
   "metadata": {},
   "source": [
    "# **1. Estrutura da Tabela**"
   ]
  },
  {
   "cell_type": "markdown",
   "metadata": {},
   "source": [
    "#### **1. Visualizando a Estrutura Atual do Schema**\n",
    "Antes de alterar qualquer coisa, é importante conhecer a estrutura atual da tabela. Você pode usar o comando PRAGMA para isso.\n",
    "\n"
   ]
  },
  {
   "cell_type": "markdown",
   "metadata": {},
   "source": [
    "**Criando a tabela:**"
   ]
  },
  {
   "cell_type": "code",
   "execution_count": null,
   "metadata": {},
   "outputs": [],
   "source": [
    "import sqlite3\n",
    "\n",
    "conn = sqlite3.connect(\"../login.db\")\n",
    "cursor = conn.cursor()\n",
    "\n",
    "# 1. Crie a nova tabela com a estrutura desejada.\n",
    "cursor.execute(\"\"\"\n",
    "    CREATE TABLE IF NOT EXISTS users (\n",
    "        id INTEGER PRIMARY KEY AUTOINCREMENT,\n",
    "        name TEXT NOT NULL,\n",
    "        username TEXT NOT NULL UNIQUE,\n",
    "        password TEXT NOT NULL,\n",
    "        role TEXT NOT NULL DEFAULT 'user' CHECK(role IN ('admin', 'superadmin', 'user'))\n",
    "    );\n",
    "\"\"\")\n",
    "conn.commit()\n"
   ]
  },
  {
   "cell_type": "code",
   "execution_count": null,
   "metadata": {},
   "outputs": [],
   "source": [
    "import sqlite3\n",
    "\n",
    "def mostrar_estrutura(tabela, conn):\n",
    "    cursor = conn.cursor()\n",
    "    cursor.execute(f\"PRAGMA table_info({tabela});\")\n",
    "    colunas = cursor.fetchall()\n",
    "    for coluna in colunas:\n",
    "        # Cada coluna retorna uma tupla: (cid, name, type, notnull, dflt_value, pk)\n",
    "        print(coluna)\n",
    "\n",
    "conn = sqlite3.connect(\"../login.db\")\n",
    "mostrar_estrutura(\"users\", conn)\n",
    "conn.close()\n"
   ]
  },
  {
   "cell_type": "markdown",
   "metadata": {},
   "source": [
    "#### **2. Adicionando Novos Campos (Colunas)**\n",
    "SQLite permite a adição de novas colunas utilizando o comando ALTER TABLE {name} ADD COLUMN {name}\n",
    "\n",
    "obs.: A nova coluna será adicionada com valor NULL para as linhas já existentes\n"
   ]
  },
  {
   "cell_type": "code",
   "execution_count": null,
   "metadata": {},
   "outputs": [],
   "source": [
    "conn = sqlite3.connect(\"../login.db\")\n",
    "cursor = conn.cursor()\n",
    "\n",
    "# Exemplo: Adicionar a coluna \"last_login\" do tipo TEXT para armazenar a data/hora do último login.\n",
    "cursor.execute(\"ALTER TABLE users ADD COLUMN last_login TEXT;\")\n",
    "conn.commit()\n",
    "conn.close()\n"
   ]
  },
  {
   "cell_type": "markdown",
   "metadata": {},
   "source": [
    "#### **3. Renomeando Tabelas e Colunas**\n",
    "Renomear Tabela\n",
    "SQLite permite renomear uma tabela diretamente:"
   ]
  },
  {
   "cell_type": "code",
   "execution_count": null,
   "metadata": {},
   "outputs": [],
   "source": [
    "conn = sqlite3.connect(\"../login.db\")\n",
    "cursor = conn.cursor()\n",
    "\n",
    "# Renomear a tabela \"users\" para \"usuarios\"\n",
    "cursor.execute(\"ALTER TABLE users RENAME TO usuarios;\")\n",
    "conn.commit()\n",
    "conn.close()\n"
   ]
  },
  {
   "cell_type": "markdown",
   "metadata": {},
   "source": [
    "Renomear Coluna\n",
    "A partir do SQLite 3.25.0 (lançado em 2018), é possível renomear uma coluna:"
   ]
  },
  {
   "cell_type": "code",
   "execution_count": null,
   "metadata": {},
   "outputs": [],
   "source": [
    "conn = sqlite3.connect(\"../login.db\")\n",
    "cursor = conn.cursor()\n",
    "\n",
    "# Exemplo: renomear a coluna \"username\" para \"user_name\" na tabela \"usuarios\"\n",
    "cursor.execute(\"ALTER TABLE users RENAME COLUMN user_name TO username;\")\n",
    "conn.commit()\n",
    "conn.close()\n"
   ]
  },
  {
   "cell_type": "markdown",
   "metadata": {},
   "source": [
    "#### **4. Alterando Tipos de Dados ou Excluindo Colunas (Recriação de Tabela)**\n",
    "SQLite não permite alterar diretamente o tipo de uma coluna ou remover uma coluna com comandos simples (até versões recentes, a partir da 3.35.0 há suporte a DROP COLUMN).\n",
    "\n",
    "Para alterar o tipo de uma coluna ou remover uma coluna, a estratégia comum é:\n",
    "\n",
    "1. Criar uma nova tabela com a estrutura desejada\n",
    "\n",
    "2. Copiar os dados da tabela antiga para a nova.\n",
    "\n",
    "3. Excluir a tabela antiga.\n",
    "\n",
    "4. Renomear a nova tabela para o nome original.\n",
    "\n",
    "**Exemplo: Alterando Tipo de Dados e Removendo uma Coluna**\n",
    "\n",
    "Suponha que você queira alterar o tipo da coluna \"last_login\" para DATETIME (ou formatá-la melhor) e remover uma coluna chamada \"campo_indesejado\". Veja um exemplo:\n"
   ]
  },
  {
   "cell_type": "code",
   "execution_count": null,
   "metadata": {},
   "outputs": [],
   "source": [
    "# 1. criando um novo banco de dados\n",
    "import sqlite3\n",
    "\n",
    "conn = sqlite3.connect(\"../login.db\")\n",
    "cursor = conn.cursor()\n",
    "\n",
    "# 1. Crie a nova tabela com a estrutura desejada.\n",
    "cursor.execute(\"\"\"\n",
    "    CREATE TABLE IF NOT EXISTS usuarios_nova (\n",
    "        id INTEGER PRIMARY KEY AUTOINCREMENT,\n",
    "        name TEXT NOT NULL,\n",
    "        user_name TEXT NOT NULL UNIQUE,\n",
    "        password TEXT NOT NULL,\n",
    "        role TEXT NOT NULL DEFAULT 'user',\n",
    "        last_login DATETIME  -- novo tipo desejado\n",
    "        -- Note que 'campo_indesejado' não é incluído\n",
    "    );\n",
    "\"\"\")\n",
    "conn.commit()\n"
   ]
  },
  {
   "cell_type": "code",
   "execution_count": null,
   "metadata": {},
   "outputs": [],
   "source": [
    "\n",
    "# 2. Copie os dados da tabela antiga para a nova.\n",
    "# Supondo que a tabela antiga seja \"usuarios\" e possua as colunas: id, name, user_name, password, role, last_login, campo_indesejado\n",
    "cursor.execute(\"\"\"\n",
    "    INSERT INTO usuarios_nova (id, name, user_name, password, role, last_login)\n",
    "    SELECT id, name, user_name, password, role, last_login\n",
    "    FROM usuarios;\n",
    "\"\"\")\n",
    "conn.commit()\n"
   ]
  },
  {
   "cell_type": "code",
   "execution_count": null,
   "metadata": {},
   "outputs": [],
   "source": [
    "\n",
    "# 3. Exclua a tabela antiga.\n",
    "cursor.execute(\"DROP TABLE usuarios;\")\n",
    "conn.commit()\n"
   ]
  },
  {
   "cell_type": "code",
   "execution_count": null,
   "metadata": {},
   "outputs": [],
   "source": [
    "\n",
    "# 4. Renomeie a nova tabela para o nome original.\n",
    "cursor.execute(\"ALTER TABLE usuarios_nova RENAME TO usuarios;\")\n",
    "conn.commit()\n",
    "\n",
    "conn.close()\n"
   ]
  },
  {
   "cell_type": "markdown",
   "metadata": {},
   "source": [
    "# **2. Trabalhando com os dados**\n"
   ]
  },
  {
   "cell_type": "code",
   "execution_count": 11,
   "metadata": {},
   "outputs": [],
   "source": [
    "#0 . criando uma conexão com o banco de dados\n",
    "import sqlite3\n",
    "\n",
    "def conectar_db(db_name='../login.db'):\n",
    "    conn = sqlite3.connect(db_name)\n",
    "    conn.row_factory = sqlite3.Row\n",
    "    return conn\n",
    "conn = conectar_db()  # Establish the connection\n"
   ]
  },
  {
   "cell_type": "code",
   "execution_count": 12,
   "metadata": {},
   "outputs": [
    {
     "name": "stdout",
     "output_type": "stream",
     "text": [
      "ID: 1, Nome: maelson, Username: lima, Role: superadmin\n",
      "ID: 4, Nome: maria, Username: silva, Role: user\n",
      "ID: 5, Nome: maelson, Username: marques, Role: admin\n"
     ]
    }
   ],
   "source": [
    "# 1. buscar usuarios\n",
    "def buscar_usuarios(conn):\n",
    "    cursor = conn.cursor()\n",
    "    cursor.execute(\"SELECT * FROM users\")\n",
    "    return cursor.fetchall()\n",
    "\n",
    "usuarios = buscar_usuarios(conn)\n",
    "for user in usuarios:\n",
    "    print(f\"ID: {user['id']}, Nome: {user['name']}, Username: {user['username']}, Role: {user['role']}\")\n",
    "\n",
    "conn.close() \n"
   ]
  },
  {
   "cell_type": "code",
   "execution_count": null,
   "metadata": {},
   "outputs": [],
   "source": [
    "#2. criar uma tabela\n",
    "\n",
    "def criar_tabela(conn):\n",
    "    cursor = conn.cursor()\n",
    "    cursor.execute('''\n",
    "        CREATE TABLE IF NOT EXISTS users (\n",
    "            id INTEGER PRIMARY KEY AUTOINCREMENT,\n",
    "            name TEXT NOT NULL,\n",
    "            username TEXT NOT NULL UNIQUE,\n",
    "            password TEXT NOT NULL,\n",
    "            role TEXT NOT NULL DEFAULT 'user'\n",
    "        )\n",
    "    ''')\n",
    "    conn.commit()\n"
   ]
  },
  {
   "cell_type": "code",
   "execution_count": null,
   "metadata": {},
   "outputs": [],
   "source": [
    "\n",
    "def inserir_usuario(conn, name, username, password, role='user'):\n",
    "    cursor = conn.cursor()\n",
    "    cursor.execute('''\n",
    "        INSERT INTO users (name, username, password, role)\n",
    "        VALUES (?, ?, ?, ?)\n",
    "    ''', (name, username, password, role))\n",
    "    conn.commit()\n",
    "\n",
    "def buscar_usuarios(conn):\n",
    "    cursor = conn.cursor()\n",
    "    cursor.execute(\"SELECT * FROM users\")\n",
    "    return cursor.fetchall()\n",
    "\n",
    "def atualizar_usuario(conn, username, novo_nome):\n",
    "    cursor = conn.cursor()\n",
    "    cursor.execute('''\n",
    "        UPDATE users\n",
    "        SET name = ?\n",
    "        WHERE username = ?\n",
    "    ''', (novo_nome, username))\n",
    "    conn.commit()\n",
    "\n",
    "def remover_usuario(conn, username):\n",
    "    cursor = conn.cursor()\n",
    "    cursor.execute(\"DELETE FROM users WHERE username = ?\", (username,))\n",
    "    conn.commit()\n",
    "\n",
    "# Uso do tutorial\n",
    "conn = conectar_db()\n",
    "criar_tabela(conn)\n",
    "\n",
    "# Inserindo usuário\n",
    "inserir_usuario(conn, \"Alice Smith\", \"alice\", \"hash123\", \"user\")\n",
    "inserir_usuario(conn, \"Bob Johnson\", \"bob\", \"hash456\", \"superadmin\")\n"
   ]
  },
  {
   "cell_type": "code",
   "execution_count": null,
   "metadata": {},
   "outputs": [],
   "source": [
    "\n",
    "# Buscando e exibindo usuários\n",
    "usuarios = buscar_usuarios(conn)\n",
    "for user in usuarios:\n",
    "    print(f\"ID: {user['id']}, Nome: {user['name']}, Username: {user['username']}, Role: {user['role']}\")\n"
   ]
  },
  {
   "cell_type": "code",
   "execution_count": null,
   "metadata": {},
   "outputs": [],
   "source": [
    "\n",
    "# Atualizando usuário\n",
    "atualizar_usuario(conn, \"alice\", \"Alice S.\")\n"
   ]
  },
  {
   "cell_type": "code",
   "execution_count": null,
   "metadata": {},
   "outputs": [],
   "source": [
    "\n",
    "# Removendo um usuário\n",
    "remover_usuario(conn, \"bob\")\n",
    "\n",
    "# Exibe os usuários restantes\n",
    "print(\"Após remoção:\")\n",
    "usuarios = buscar_usuarios(conn)\n",
    "for user in usuarios:\n",
    "    print(dict(user))\n",
    "\n",
    "conn.close()\n"
   ]
  },
  {
   "cell_type": "code",
   "execution_count": null,
   "metadata": {},
   "outputs": [],
   "source": []
  }
 ],
 "metadata": {
  "kernelspec": {
   "display_name": "devPy",
   "language": "python",
   "name": "python3"
  },
  "language_info": {
   "codemirror_mode": {
    "name": "ipython",
    "version": 3
   },
   "file_extension": ".py",
   "mimetype": "text/x-python",
   "name": "python",
   "nbconvert_exporter": "python",
   "pygments_lexer": "ipython3",
   "version": "3.11.8"
  }
 },
 "nbformat": 4,
 "nbformat_minor": 2
}
